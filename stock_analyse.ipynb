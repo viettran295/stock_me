{
 "cells": [
  {
   "cell_type": "code",
   "execution_count": 10,
   "metadata": {},
   "outputs": [
    {
     "data": {
      "text/plain": [
       "{'address1': '251 Little Falls Drive',\n",
       " 'city': 'Wilmington',\n",
       " 'state': 'DE',\n",
       " 'zip': '19808',\n",
       " 'country': 'United States',\n",
       " 'phone': '302 636 5401',\n",
       " 'website': 'https://www.coinbase.com',\n",
       " 'industry': 'Financial Data & Stock Exchanges',\n",
       " 'industryKey': 'financial-data-stock-exchanges',\n",
       " 'industryDisp': 'Financial Data & Stock Exchanges',\n",
       " 'sector': 'Financial Services',\n",
       " 'sectorKey': 'financial-services',\n",
       " 'sectorDisp': 'Financial Services',\n",
       " 'longBusinessSummary': 'Coinbase Global, Inc. provides financial infrastructure and technology for the crypto economy in the United States and internationally. The company offers the primary financial account in the crypto economy for consumers; and a marketplace with a pool of liquidity for transacting in crypto assets for institutions. It also provides technology and services that enable developers to build crypto products and securely accept crypto assets as payment. The company was founded in 2012 and is based in Wilmington, Delaware.',\n",
       " 'fullTimeEmployees': 3416,\n",
       " 'companyOfficers': [{'maxAge': 1,\n",
       "   'name': 'Mr. Brian  Armstrong',\n",
       "   'age': 40,\n",
       "   'title': 'Co-Founder, Chairman & CEO',\n",
       "   'yearBorn': 1983,\n",
       "   'fiscalYear': 2023,\n",
       "   'totalPay': 4704800,\n",
       "   'exercisedValue': 0,\n",
       "   'unexercisedValue': 902879616},\n",
       "  {'maxAge': 1,\n",
       "   'name': 'Ms. Emilie M. Choi',\n",
       "   'age': 44,\n",
       "   'title': 'President & COO',\n",
       "   'yearBorn': 1979,\n",
       "   'fiscalYear': 2023,\n",
       "   'totalPay': 910037,\n",
       "   'exercisedValue': 0,\n",
       "   'unexercisedValue': 239865952},\n",
       "  {'maxAge': 1,\n",
       "   'name': 'Mr. Frederick Ernest Ehrsam III',\n",
       "   'age': 34,\n",
       "   'title': 'Co-Founder & Director',\n",
       "   'yearBorn': 1989,\n",
       "   'fiscalYear': 2023,\n",
       "   'exercisedValue': 0,\n",
       "   'unexercisedValue': 0},\n",
       "  {'maxAge': 1,\n",
       "   'name': 'Ms. Alesia Jeanne Haas',\n",
       "   'age': 46,\n",
       "   'title': 'Chief Financial Officer',\n",
       "   'yearBorn': 1977,\n",
       "   'fiscalYear': 2023,\n",
       "   'totalPay': 733300,\n",
       "   'exercisedValue': 4733213,\n",
       "   'unexercisedValue': 115336896},\n",
       "  {'maxAge': 1,\n",
       "   'name': 'Mr. Paul  Grewal',\n",
       "   'age': 51,\n",
       "   'title': 'Chief Legal Officer & Corporate Secretary',\n",
       "   'yearBorn': 1972,\n",
       "   'fiscalYear': 2023,\n",
       "   'totalPay': 733300,\n",
       "   'exercisedValue': 10841595,\n",
       "   'unexercisedValue': 91748480},\n",
       "  {'maxAge': 1,\n",
       "   'name': 'Mr. Lawrence J. Brock',\n",
       "   'age': 51,\n",
       "   'title': 'Chief People Officer',\n",
       "   'yearBorn': 1972,\n",
       "   'fiscalYear': 2023,\n",
       "   'totalPay': 733300,\n",
       "   'exercisedValue': 16483380,\n",
       "   'unexercisedValue': 38062716},\n",
       "  {'maxAge': 1,\n",
       "   'name': 'Jennifer N. Jones',\n",
       "   'title': 'Chief Accounting Officer',\n",
       "   'fiscalYear': 2023,\n",
       "   'exercisedValue': 0,\n",
       "   'unexercisedValue': 0},\n",
       "  {'maxAge': 1,\n",
       "   'name': 'Mr. Anil K. Gupta',\n",
       "   'title': 'Vice President of Investor Relations',\n",
       "   'fiscalYear': 2023,\n",
       "   'exercisedValue': 0,\n",
       "   'unexercisedValue': 0},\n",
       "  {'maxAge': 1,\n",
       "   'name': 'Mr. Faryar  Shirzad',\n",
       "   'title': 'Chief Policy Officer',\n",
       "   'fiscalYear': 2023,\n",
       "   'exercisedValue': 0,\n",
       "   'unexercisedValue': 0},\n",
       "  {'maxAge': 1,\n",
       "   'name': 'Mr. Manish  Gupta',\n",
       "   'title': 'Executive Vice President of Engineering',\n",
       "   'fiscalYear': 2023,\n",
       "   'exercisedValue': 0,\n",
       "   'unexercisedValue': 0}],\n",
       " 'auditRisk': 7,\n",
       " 'boardRisk': 8,\n",
       " 'compensationRisk': 10,\n",
       " 'shareHolderRightsRisk': 10,\n",
       " 'overallRisk': 10,\n",
       " 'governanceEpochDate': 1714521600,\n",
       " 'compensationAsOfEpochDate': 1703980800,\n",
       " 'maxAge': 86400,\n",
       " 'priceHint': 2,\n",
       " 'previousClose': 199.17,\n",
       " 'open': 205.31,\n",
       " 'dayLow': 199.8315,\n",
       " 'dayHigh': 210.67,\n",
       " 'regularMarketPreviousClose': 199.17,\n",
       " 'regularMarketOpen': 205.31,\n",
       " 'regularMarketDayLow': 199.8315,\n",
       " 'regularMarketDayHigh': 210.67,\n",
       " 'beta': 3.47,\n",
       " 'trailingPE': 40.626225,\n",
       " 'forwardPE': 49.311165,\n",
       " 'volume': 8688627,\n",
       " 'regularMarketVolume': 8688627,\n",
       " 'averageVolume': 11777426,\n",
       " 'averageVolume10days': 7757480,\n",
       " 'averageDailyVolume10Day': 7757480,\n",
       " 'bid': 207.53,\n",
       " 'ask': 207.76,\n",
       " 'bidSize': 100,\n",
       " 'askSize': 200,\n",
       " 'marketCap': 50980122624,\n",
       " 'fiftyTwoWeekLow': 46.43,\n",
       " 'fiftyTwoWeekHigh': 283.48,\n",
       " 'priceToSalesTrailing12Months': 13.494534,\n",
       " 'fiftyDayAverage': 234.319,\n",
       " 'twoHundredDayAverage': 145.01746,\n",
       " 'currency': 'USD',\n",
       " 'enterpriseValue': 48775352320,\n",
       " 'profitMargins': 0.35735,\n",
       " 'floatShares': 188606769,\n",
       " 'sharesOutstanding': 199759008,\n",
       " 'sharesShort': 10681731,\n",
       " 'sharesShortPriorMonth': 11630927,\n",
       " 'sharesShortPreviousMonthDate': 1711584000,\n",
       " 'dateShortInterest': 1714435200,\n",
       " 'sharesPercentSharesOut': 0.0435,\n",
       " 'heldPercentInsiders': 0.02396,\n",
       " 'heldPercentInstitutions': 0.53635,\n",
       " 'shortRatio': 1.21,\n",
       " 'shortPercentOfFloat': 0.0542,\n",
       " 'impliedSharesOutstanding': 245568992,\n",
       " 'bookValue': 32.893,\n",
       " 'priceToBook': 6.311373,\n",
       " 'lastFiscalYearEnd': 1703980800,\n",
       " 'nextFiscalYearEnd': 1735603200,\n",
       " 'mostRecentQuarter': 1711843200,\n",
       " 'netIncomeToCommon': 1349127040,\n",
       " 'trailingEps': 5.11,\n",
       " 'forwardEps': 4.21,\n",
       " 'enterpriseToRevenue': 12.911,\n",
       " 'enterpriseToEbitda': 91.554,\n",
       " '52WeekChange': 2.3993778,\n",
       " 'SandP52WeekChange': 0.26490295,\n",
       " 'exchange': 'NMS',\n",
       " 'quoteType': 'EQUITY',\n",
       " 'symbol': 'COIN',\n",
       " 'underlyingSymbol': 'COIN',\n",
       " 'shortName': 'Coinbase Global, Inc.',\n",
       " 'longName': 'Coinbase Global, Inc.',\n",
       " 'firstTradeDateEpochUtc': 1618407000,\n",
       " 'timeZoneFullName': 'America/New_York',\n",
       " 'timeZoneShortName': 'EDT',\n",
       " 'uuid': '25361d98-7423-342a-baf0-3cacdc76932f',\n",
       " 'messageBoardId': 'finmb_377154867',\n",
       " 'gmtOffSetMilliseconds': -14400000,\n",
       " 'currentPrice': 207.6,\n",
       " 'targetHighPrice': 0.39,\n",
       " 'targetLowPrice': 0.39,\n",
       " 'targetMeanPrice': 0.39,\n",
       " 'targetMedianPrice': 0.39,\n",
       " 'recommendationMean': 3.0,\n",
       " 'recommendationKey': 'hold',\n",
       " 'numberOfAnalystOpinions': 1,\n",
       " 'totalCash': 6711399936,\n",
       " 'totalCashPerShare': 27.33,\n",
       " 'ebitda': 532748992,\n",
       " 'totalDebt': 4506638848,\n",
       " 'quickRatio': 0.021,\n",
       " 'currentRatio': 1.024,\n",
       " 'totalRevenue': 3777835008,\n",
       " 'debtToEquity': 55.837,\n",
       " 'revenuePerShare': 15.832,\n",
       " 'returnOnAssets': 0.00104,\n",
       " 'returnOnEquity': 0.19642,\n",
       " 'freeCashflow': 200540368,\n",
       " 'operatingCashflow': 871358016,\n",
       " 'revenueGrowth': 1.156,\n",
       " 'grossMargins': 0.85660005,\n",
       " 'ebitdaMargins': 0.14102,\n",
       " 'operatingMargins': 0.39316002,\n",
       " 'financialCurrency': 'USD',\n",
       " 'trailingPegRatio': 0.3786}"
      ]
     },
     "execution_count": 10,
     "metadata": {},
     "output_type": "execute_result"
    }
   ],
   "source": [
    "import yfinance as yf \n",
    "import stock_me.financial_statement as fs\n",
    "import polars as pl\n",
    "pl.Config.set_tbl_rows(100)\n",
    "\n",
    "ticker = yf.Ticker(\"COIN\")\n",
    "ticker.info"
   ]
  },
  {
   "cell_type": "code",
   "execution_count": 11,
   "metadata": {},
   "outputs": [],
   "source": [
    "income = ticker.incomestmt\n",
    "balancesheet = ticker.balancesheet\n",
    "cashflow = ticker.cashflow"
   ]
  },
  {
   "cell_type": "code",
   "execution_count": 12,
   "metadata": {},
   "outputs": [],
   "source": [
    "fs = fs.FinancialStatement()\n",
    "df = fs.pick_criteria(balancesheet, fs.balancesheet_criteria)\n",
    "df = fs.calculate_growing(df)\n",
    "# df"
   ]
  },
  {
   "cell_type": "code",
   "execution_count": 13,
   "metadata": {},
   "outputs": [
    {
     "data": {
      "application/vnd.plotly.v1+json": {
       "config": {
        "plotlyServerURL": "https://plot.ly"
       },
       "data": [
        {
         "name": "Total Debt",
         "type": "scatter",
         "x": [
          "Growing 2024",
          "Growing 2023",
          "Growing 2022",
          "Growing 2021",
          "Growing Growing 2024",
          "Growing Growing 2023"
         ],
         "y": [
          -14.186280086367342,
          -0.6138468982561724,
          3157.89957134109,
          -759734148.2764889,
          2211.0453317705096,
          -100.01943845535264
         ]
        },
        {
         "name": "Total Capitalization",
         "type": "scatter",
         "x": [
          "Growing 2024",
          "Growing 2023",
          "Growing 2022",
          "Growing 2021",
          "Growing Growing 2024",
          "Growing Growing 2023"
         ],
         "y": [
          4.674511372902705,
          -9.40439773412827,
          913.5581329702445,
          20613576873.75007,
          -149.70558992777438,
          -101.02942521058313
         ]
        },
        {
         "name": "Total Equity Gross Minority Interest",
         "type": "scatter",
         "x": [
          "Growing 2024",
          "Growing 2023",
          "Growing 2022",
          "Growing 2021",
          "Growing Growing 2024",
          "Growing Growing 2023"
         ],
         "y": [
          15.163321237636715,
          -14.52800347995648,
          562.2867336942082,
          6354702704.872975,
          -204.37305620525734,
          -102.58373577205137
         ]
        },
        {
         "name": "Total Liabilities Net Minority Interest",
         "type": "scatter",
         "x": [
          "Growing 2024",
          "Growing 2023",
          "Growing 2022",
          "Growing 2021",
          "Growing Growing 2024",
          "Growing Growing 2023"
         ],
         "y": [
          138.1637016764005,
          465.8484512180972,
          204.44099651868527,
          3540604227.073819,
          -70.34149167714713,
          127.86449838866838
         ]
        },
        {
         "name": "Current Debt",
         "type": "scatter",
         "x": [
          "Growing 2024",
          "Growing 2023",
          "Growing 2022",
          "Growing 2021",
          "Growing Growing 2024",
          "Growing Growing 2023"
         ],
         "y": [
          null,
          2.288135593220339,
          -92.60605301084028,
          null,
          null,
          -102.47082725030133
         ]
        },
        {
         "name": "Total Assets",
         "type": "scatter",
         "x": [
          "Growing 2024",
          "Growing 2023",
          "Growing 2022",
          "Growing 2021",
          "Growing Growing 2024",
          "Growing Growing 2023"
         ],
         "y": [
          130.68625909339542,
          321.74993213682626,
          263.3291343703451,
          4480512266.503203,
          -59.38266148947618,
          22.185466832666663
         ]
        },
        {
         "name": "Investments And Advances",
         "type": "scatter",
         "x": [
          "Growing 2024",
          "Growing 2023",
          "Growing 2022",
          "Growing 2021",
          "Growing Growing 2024",
          "Growing Growing 2023"
         ],
         "y": [
          5.577864290697613,
          -44.452916592401834,
          4704.032544588929,
          504601635.2365494,
          -112.54780275013725,
          -100.94499594063262
         ]
        },
        {
         "name": "Cash And Cash Equivalents",
         "type": "scatter",
         "x": [
          "Growing 2024",
          "Growing 2023",
          "Growing 2022",
          "Growing 2021",
          "Growing Growing 2024",
          "Growing Growing 2023"
         ],
         "y": [
          16.142974236732435,
          -37.88117265189842,
          570.8553938880257,
          6577784045.772963,
          -142.61476904391296,
          -106.63586138582215
         ]
        }
       ],
       "layout": {
        "template": {
         "data": {
          "bar": [
           {
            "error_x": {
             "color": "#f2f5fa"
            },
            "error_y": {
             "color": "#f2f5fa"
            },
            "marker": {
             "line": {
              "color": "rgb(17,17,17)",
              "width": 0.5
             },
             "pattern": {
              "fillmode": "overlay",
              "size": 10,
              "solidity": 0.2
             }
            },
            "type": "bar"
           }
          ],
          "barpolar": [
           {
            "marker": {
             "line": {
              "color": "rgb(17,17,17)",
              "width": 0.5
             },
             "pattern": {
              "fillmode": "overlay",
              "size": 10,
              "solidity": 0.2
             }
            },
            "type": "barpolar"
           }
          ],
          "carpet": [
           {
            "aaxis": {
             "endlinecolor": "#A2B1C6",
             "gridcolor": "#506784",
             "linecolor": "#506784",
             "minorgridcolor": "#506784",
             "startlinecolor": "#A2B1C6"
            },
            "baxis": {
             "endlinecolor": "#A2B1C6",
             "gridcolor": "#506784",
             "linecolor": "#506784",
             "minorgridcolor": "#506784",
             "startlinecolor": "#A2B1C6"
            },
            "type": "carpet"
           }
          ],
          "choropleth": [
           {
            "colorbar": {
             "outlinewidth": 0,
             "ticks": ""
            },
            "type": "choropleth"
           }
          ],
          "contour": [
           {
            "colorbar": {
             "outlinewidth": 0,
             "ticks": ""
            },
            "colorscale": [
             [
              0,
              "#0d0887"
             ],
             [
              0.1111111111111111,
              "#46039f"
             ],
             [
              0.2222222222222222,
              "#7201a8"
             ],
             [
              0.3333333333333333,
              "#9c179e"
             ],
             [
              0.4444444444444444,
              "#bd3786"
             ],
             [
              0.5555555555555556,
              "#d8576b"
             ],
             [
              0.6666666666666666,
              "#ed7953"
             ],
             [
              0.7777777777777778,
              "#fb9f3a"
             ],
             [
              0.8888888888888888,
              "#fdca26"
             ],
             [
              1,
              "#f0f921"
             ]
            ],
            "type": "contour"
           }
          ],
          "contourcarpet": [
           {
            "colorbar": {
             "outlinewidth": 0,
             "ticks": ""
            },
            "type": "contourcarpet"
           }
          ],
          "heatmap": [
           {
            "colorbar": {
             "outlinewidth": 0,
             "ticks": ""
            },
            "colorscale": [
             [
              0,
              "#0d0887"
             ],
             [
              0.1111111111111111,
              "#46039f"
             ],
             [
              0.2222222222222222,
              "#7201a8"
             ],
             [
              0.3333333333333333,
              "#9c179e"
             ],
             [
              0.4444444444444444,
              "#bd3786"
             ],
             [
              0.5555555555555556,
              "#d8576b"
             ],
             [
              0.6666666666666666,
              "#ed7953"
             ],
             [
              0.7777777777777778,
              "#fb9f3a"
             ],
             [
              0.8888888888888888,
              "#fdca26"
             ],
             [
              1,
              "#f0f921"
             ]
            ],
            "type": "heatmap"
           }
          ],
          "heatmapgl": [
           {
            "colorbar": {
             "outlinewidth": 0,
             "ticks": ""
            },
            "colorscale": [
             [
              0,
              "#0d0887"
             ],
             [
              0.1111111111111111,
              "#46039f"
             ],
             [
              0.2222222222222222,
              "#7201a8"
             ],
             [
              0.3333333333333333,
              "#9c179e"
             ],
             [
              0.4444444444444444,
              "#bd3786"
             ],
             [
              0.5555555555555556,
              "#d8576b"
             ],
             [
              0.6666666666666666,
              "#ed7953"
             ],
             [
              0.7777777777777778,
              "#fb9f3a"
             ],
             [
              0.8888888888888888,
              "#fdca26"
             ],
             [
              1,
              "#f0f921"
             ]
            ],
            "type": "heatmapgl"
           }
          ],
          "histogram": [
           {
            "marker": {
             "pattern": {
              "fillmode": "overlay",
              "size": 10,
              "solidity": 0.2
             }
            },
            "type": "histogram"
           }
          ],
          "histogram2d": [
           {
            "colorbar": {
             "outlinewidth": 0,
             "ticks": ""
            },
            "colorscale": [
             [
              0,
              "#0d0887"
             ],
             [
              0.1111111111111111,
              "#46039f"
             ],
             [
              0.2222222222222222,
              "#7201a8"
             ],
             [
              0.3333333333333333,
              "#9c179e"
             ],
             [
              0.4444444444444444,
              "#bd3786"
             ],
             [
              0.5555555555555556,
              "#d8576b"
             ],
             [
              0.6666666666666666,
              "#ed7953"
             ],
             [
              0.7777777777777778,
              "#fb9f3a"
             ],
             [
              0.8888888888888888,
              "#fdca26"
             ],
             [
              1,
              "#f0f921"
             ]
            ],
            "type": "histogram2d"
           }
          ],
          "histogram2dcontour": [
           {
            "colorbar": {
             "outlinewidth": 0,
             "ticks": ""
            },
            "colorscale": [
             [
              0,
              "#0d0887"
             ],
             [
              0.1111111111111111,
              "#46039f"
             ],
             [
              0.2222222222222222,
              "#7201a8"
             ],
             [
              0.3333333333333333,
              "#9c179e"
             ],
             [
              0.4444444444444444,
              "#bd3786"
             ],
             [
              0.5555555555555556,
              "#d8576b"
             ],
             [
              0.6666666666666666,
              "#ed7953"
             ],
             [
              0.7777777777777778,
              "#fb9f3a"
             ],
             [
              0.8888888888888888,
              "#fdca26"
             ],
             [
              1,
              "#f0f921"
             ]
            ],
            "type": "histogram2dcontour"
           }
          ],
          "mesh3d": [
           {
            "colorbar": {
             "outlinewidth": 0,
             "ticks": ""
            },
            "type": "mesh3d"
           }
          ],
          "parcoords": [
           {
            "line": {
             "colorbar": {
              "outlinewidth": 0,
              "ticks": ""
             }
            },
            "type": "parcoords"
           }
          ],
          "pie": [
           {
            "automargin": true,
            "type": "pie"
           }
          ],
          "scatter": [
           {
            "marker": {
             "line": {
              "color": "#283442"
             }
            },
            "type": "scatter"
           }
          ],
          "scatter3d": [
           {
            "line": {
             "colorbar": {
              "outlinewidth": 0,
              "ticks": ""
             }
            },
            "marker": {
             "colorbar": {
              "outlinewidth": 0,
              "ticks": ""
             }
            },
            "type": "scatter3d"
           }
          ],
          "scattercarpet": [
           {
            "marker": {
             "colorbar": {
              "outlinewidth": 0,
              "ticks": ""
             }
            },
            "type": "scattercarpet"
           }
          ],
          "scattergeo": [
           {
            "marker": {
             "colorbar": {
              "outlinewidth": 0,
              "ticks": ""
             }
            },
            "type": "scattergeo"
           }
          ],
          "scattergl": [
           {
            "marker": {
             "line": {
              "color": "#283442"
             }
            },
            "type": "scattergl"
           }
          ],
          "scattermapbox": [
           {
            "marker": {
             "colorbar": {
              "outlinewidth": 0,
              "ticks": ""
             }
            },
            "type": "scattermapbox"
           }
          ],
          "scatterpolar": [
           {
            "marker": {
             "colorbar": {
              "outlinewidth": 0,
              "ticks": ""
             }
            },
            "type": "scatterpolar"
           }
          ],
          "scatterpolargl": [
           {
            "marker": {
             "colorbar": {
              "outlinewidth": 0,
              "ticks": ""
             }
            },
            "type": "scatterpolargl"
           }
          ],
          "scatterternary": [
           {
            "marker": {
             "colorbar": {
              "outlinewidth": 0,
              "ticks": ""
             }
            },
            "type": "scatterternary"
           }
          ],
          "surface": [
           {
            "colorbar": {
             "outlinewidth": 0,
             "ticks": ""
            },
            "colorscale": [
             [
              0,
              "#0d0887"
             ],
             [
              0.1111111111111111,
              "#46039f"
             ],
             [
              0.2222222222222222,
              "#7201a8"
             ],
             [
              0.3333333333333333,
              "#9c179e"
             ],
             [
              0.4444444444444444,
              "#bd3786"
             ],
             [
              0.5555555555555556,
              "#d8576b"
             ],
             [
              0.6666666666666666,
              "#ed7953"
             ],
             [
              0.7777777777777778,
              "#fb9f3a"
             ],
             [
              0.8888888888888888,
              "#fdca26"
             ],
             [
              1,
              "#f0f921"
             ]
            ],
            "type": "surface"
           }
          ],
          "table": [
           {
            "cells": {
             "fill": {
              "color": "#506784"
             },
             "line": {
              "color": "rgb(17,17,17)"
             }
            },
            "header": {
             "fill": {
              "color": "#2a3f5f"
             },
             "line": {
              "color": "rgb(17,17,17)"
             }
            },
            "type": "table"
           }
          ]
         },
         "layout": {
          "annotationdefaults": {
           "arrowcolor": "#f2f5fa",
           "arrowhead": 0,
           "arrowwidth": 1
          },
          "autotypenumbers": "strict",
          "coloraxis": {
           "colorbar": {
            "outlinewidth": 0,
            "ticks": ""
           }
          },
          "colorscale": {
           "diverging": [
            [
             0,
             "#8e0152"
            ],
            [
             0.1,
             "#c51b7d"
            ],
            [
             0.2,
             "#de77ae"
            ],
            [
             0.3,
             "#f1b6da"
            ],
            [
             0.4,
             "#fde0ef"
            ],
            [
             0.5,
             "#f7f7f7"
            ],
            [
             0.6,
             "#e6f5d0"
            ],
            [
             0.7,
             "#b8e186"
            ],
            [
             0.8,
             "#7fbc41"
            ],
            [
             0.9,
             "#4d9221"
            ],
            [
             1,
             "#276419"
            ]
           ],
           "sequential": [
            [
             0,
             "#0d0887"
            ],
            [
             0.1111111111111111,
             "#46039f"
            ],
            [
             0.2222222222222222,
             "#7201a8"
            ],
            [
             0.3333333333333333,
             "#9c179e"
            ],
            [
             0.4444444444444444,
             "#bd3786"
            ],
            [
             0.5555555555555556,
             "#d8576b"
            ],
            [
             0.6666666666666666,
             "#ed7953"
            ],
            [
             0.7777777777777778,
             "#fb9f3a"
            ],
            [
             0.8888888888888888,
             "#fdca26"
            ],
            [
             1,
             "#f0f921"
            ]
           ],
           "sequentialminus": [
            [
             0,
             "#0d0887"
            ],
            [
             0.1111111111111111,
             "#46039f"
            ],
            [
             0.2222222222222222,
             "#7201a8"
            ],
            [
             0.3333333333333333,
             "#9c179e"
            ],
            [
             0.4444444444444444,
             "#bd3786"
            ],
            [
             0.5555555555555556,
             "#d8576b"
            ],
            [
             0.6666666666666666,
             "#ed7953"
            ],
            [
             0.7777777777777778,
             "#fb9f3a"
            ],
            [
             0.8888888888888888,
             "#fdca26"
            ],
            [
             1,
             "#f0f921"
            ]
           ]
          },
          "colorway": [
           "#636efa",
           "#EF553B",
           "#00cc96",
           "#ab63fa",
           "#FFA15A",
           "#19d3f3",
           "#FF6692",
           "#B6E880",
           "#FF97FF",
           "#FECB52"
          ],
          "font": {
           "color": "#f2f5fa"
          },
          "geo": {
           "bgcolor": "rgb(17,17,17)",
           "lakecolor": "rgb(17,17,17)",
           "landcolor": "rgb(17,17,17)",
           "showlakes": true,
           "showland": true,
           "subunitcolor": "#506784"
          },
          "hoverlabel": {
           "align": "left"
          },
          "hovermode": "closest",
          "mapbox": {
           "style": "dark"
          },
          "paper_bgcolor": "rgb(17,17,17)",
          "plot_bgcolor": "rgb(17,17,17)",
          "polar": {
           "angularaxis": {
            "gridcolor": "#506784",
            "linecolor": "#506784",
            "ticks": ""
           },
           "bgcolor": "rgb(17,17,17)",
           "radialaxis": {
            "gridcolor": "#506784",
            "linecolor": "#506784",
            "ticks": ""
           }
          },
          "scene": {
           "xaxis": {
            "backgroundcolor": "rgb(17,17,17)",
            "gridcolor": "#506784",
            "gridwidth": 2,
            "linecolor": "#506784",
            "showbackground": true,
            "ticks": "",
            "zerolinecolor": "#C8D4E3"
           },
           "yaxis": {
            "backgroundcolor": "rgb(17,17,17)",
            "gridcolor": "#506784",
            "gridwidth": 2,
            "linecolor": "#506784",
            "showbackground": true,
            "ticks": "",
            "zerolinecolor": "#C8D4E3"
           },
           "zaxis": {
            "backgroundcolor": "rgb(17,17,17)",
            "gridcolor": "#506784",
            "gridwidth": 2,
            "linecolor": "#506784",
            "showbackground": true,
            "ticks": "",
            "zerolinecolor": "#C8D4E3"
           }
          },
          "shapedefaults": {
           "line": {
            "color": "#f2f5fa"
           }
          },
          "sliderdefaults": {
           "bgcolor": "#C8D4E3",
           "bordercolor": "rgb(17,17,17)",
           "borderwidth": 1,
           "tickwidth": 0
          },
          "ternary": {
           "aaxis": {
            "gridcolor": "#506784",
            "linecolor": "#506784",
            "ticks": ""
           },
           "baxis": {
            "gridcolor": "#506784",
            "linecolor": "#506784",
            "ticks": ""
           },
           "bgcolor": "rgb(17,17,17)",
           "caxis": {
            "gridcolor": "#506784",
            "linecolor": "#506784",
            "ticks": ""
           }
          },
          "title": {
           "x": 0.05
          },
          "updatemenudefaults": {
           "bgcolor": "#506784",
           "borderwidth": 0
          },
          "xaxis": {
           "automargin": true,
           "gridcolor": "#283442",
           "linecolor": "#506784",
           "ticks": "",
           "title": {
            "standoff": 15
           },
           "zerolinecolor": "#283442",
           "zerolinewidth": 2
          },
          "yaxis": {
           "automargin": true,
           "gridcolor": "#283442",
           "linecolor": "#506784",
           "ticks": "",
           "title": {
            "standoff": 15
           },
           "zerolinecolor": "#283442",
           "zerolinewidth": 2
          }
         }
        },
        "title": {
         "font": {
          "size": 30
         },
         "text": "% Growing",
         "x": 0.4,
         "y": 0.99
        }
       }
      }
     },
     "metadata": {},
     "output_type": "display_data"
    }
   ],
   "source": [
    "fs.show_growing(df)"
   ]
  }
 ],
 "metadata": {
  "kernelspec": {
   "display_name": "venv",
   "language": "python",
   "name": "python3"
  },
  "language_info": {
   "codemirror_mode": {
    "name": "ipython",
    "version": 3
   },
   "file_extension": ".py",
   "mimetype": "text/x-python",
   "name": "python",
   "nbconvert_exporter": "python",
   "pygments_lexer": "ipython3",
   "version": "3.11.4"
  }
 },
 "nbformat": 4,
 "nbformat_minor": 2
}
